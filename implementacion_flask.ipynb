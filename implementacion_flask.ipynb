{
 "cells": [
  {
   "cell_type": "code",
   "execution_count": 1,
   "metadata": {},
   "outputs": [
    {
     "name": "stdout",
     "output_type": "stream",
     "text": [
      "Requirement already satisfied: scikit-learn==1.2.2 in c:\\users\\estudiante\\anaconda3\\lib\\site-packages (1.2.2)\n",
      "Requirement already satisfied: joblib>=1.1.1 in c:\\users\\estudiante\\anaconda3\\lib\\site-packages (from scikit-learn==1.2.2) (1.1.1)\n",
      "Requirement already satisfied: numpy>=1.17.3 in c:\\users\\estudiante\\anaconda3\\lib\\site-packages (from scikit-learn==1.2.2) (1.23.5)\n",
      "Requirement already satisfied: threadpoolctl>=2.0.0 in c:\\users\\estudiante\\anaconda3\\lib\\site-packages (from scikit-learn==1.2.2) (2.2.0)\n",
      "Requirement already satisfied: scipy>=1.3.2 in c:\\users\\estudiante\\anaconda3\\lib\\site-packages (from scikit-learn==1.2.2) (1.10.0)\n",
      "Note: you may need to restart the kernel to use updated packages.\n",
      "1.2.2\n"
     ]
    }
   ],
   "source": [
    "#%pip install scikit-learn==1.2.2\n",
    "\n",
    "\n",
    "#import sklearn\n",
    "#print(sklearn.__version__)\n"
   ]
  },
  {
   "cell_type": "code",
   "execution_count": 1,
   "metadata": {},
   "outputs": [
    {
     "name": "stdout",
     "output_type": "stream",
     "text": [
      "WARNING:tensorflow:From c:\\Users\\ESTUDIANTE\\anaconda3\\lib\\site-packages\\keras\\src\\losses.py:2976: The name tf.losses.sparse_softmax_cross_entropy is deprecated. Please use tf.compat.v1.losses.sparse_softmax_cross_entropy instead.\n",
      "\n",
      "********** CARGANDO MODELO: PREPROCESADOR Y RED NEURONAL\n",
      "Preprocesador cargado desde archivo\n",
      "Cantidad de pasos:  2\n",
      "[('prepcn', ColumnTransformer(n_jobs=-1, remainder='passthrough',\n",
      "                  transformers=[('catord',\n",
      "                                 Pipeline(steps=[('ordinal',\n",
      "                                                  OrdinalEncoder())]),\n",
      "                                 ['ESTADOCUENTACORRIENTE', 'HISTORIALCREDITO',\n",
      "                                  'SALDOCUENTAAHORROS', 'TIEMPOACTUALEMPLEO',\n",
      "                                  'ESTADOCIVILYSEXO', 'ACTIVOS', 'VIVIENDA',\n",
      "                                  'EMPLEO']),\n",
      "                                ('catnom',\n",
      "                                 Pipeline(steps=[('onehot',\n",
      "                                                  OneHotEncoder(handle_unknown='ignore',\n",
      "                                                                sparse=False))]),\n",
      "                                 ['PROPOSITOCREDITO', 'GARANTE',\n",
      "                                  'TRABAJADOREXTRANJERO'])])), ('prepstandard', ColumnTransformer(remainder='passthrough',\n",
      "                  transformers=[('transcaler',\n",
      "                                 Pipeline(steps=[('scaler', StandardScaler())]),\n",
      "                                 [0, 1, 2, 3, 4, 5, 6, 7, 8, 9, 10, 11, 12, 13,\n",
      "                                  14, 15, 16, 17, 18, 19, 20, 21, 22, 23, 24,\n",
      "                                  25, 26, 27, 28, 29])]))]\n",
      "WARNING:tensorflow:From c:\\Users\\ESTUDIANTE\\anaconda3\\lib\\site-packages\\keras\\src\\backend.py:1398: The name tf.executing_eagerly_outside_functions is deprecated. Please use tf.compat.v1.executing_eagerly_outside_functions instead.\n",
      "\n",
      "Red Neuronal Cargada desde Archivo\n",
      "Cantidad de pasos:  3\n",
      "[('prepcn', ColumnTransformer(n_jobs=-1, remainder='passthrough',\n",
      "                  transformers=[('catord',\n",
      "                                 Pipeline(steps=[('ordinal',\n",
      "                                                  OrdinalEncoder())]),\n",
      "                                 ['ESTADOCUENTACORRIENTE', 'HISTORIALCREDITO',\n",
      "                                  'SALDOCUENTAAHORROS', 'TIEMPOACTUALEMPLEO',\n",
      "                                  'ESTADOCIVILYSEXO', 'ACTIVOS', 'VIVIENDA',\n",
      "                                  'EMPLEO']),\n",
      "                                ('catnom',\n",
      "                                 Pipeline(steps=[('onehot',\n",
      "                                                  OneHotEncoder(handle_unknown='ignore',\n",
      "                                                                sparse=False))]),\n",
      "                                 ['PROPOSITOCREDITO', 'GARANTE',\n",
      "                                  'TRABAJADOREXTRANJERO'])])), ('prepstandard', ColumnTransformer(remainder='passthrough',\n",
      "                  transformers=[('transcaler',\n",
      "                                 Pipeline(steps=[('scaler', StandardScaler())]),\n",
      "                                 [0, 1, 2, 3, 4, 5, 6, 7, 8, 9, 10, 11, 12, 13,\n",
      "                                  14, 15, 16, 17, 18, 19, 20, 21, 22, 23, 24,\n",
      "                                  25, 26, 27, 28, 29])])), ['modelNN', <keras.src.engine.sequential.Sequential object at 0x000001801D7CC5E0>]]\n",
      "Red Neuronal integrada al Pipeline\n",
      " * Serving Flask app '__main__'\n",
      " * Debug mode: off\n"
     ]
    },
    {
     "name": "stderr",
     "output_type": "stream",
     "text": [
      "WARNING: This is a development server. Do not use it in a production deployment. Use a production WSGI server instead.\n",
      " * Running on http://127.0.0.1:5000\n",
      "Press CTRL+C to quit\n"
     ]
    },
    {
     "name": "stdout",
     "output_type": "stream",
     "text": [
      "1/1 [==============================] - 0s 191ms/step\n"
     ]
    },
    {
     "name": "stderr",
     "output_type": "stream",
     "text": [
      "127.0.0.1 - - [07/Dec/2023 14:00:45] \"GET /predecirCliente1 HTTP/1.1\" 200 -\n",
      "127.0.0.1 - - [07/Dec/2023 14:00:45] \"GET /favicon.ico HTTP/1.1\" 404 -\n"
     ]
    },
    {
     "name": "stdout",
     "output_type": "stream",
     "text": [
      "1/1 [==============================] - 0s 26ms/step\n"
     ]
    },
    {
     "name": "stderr",
     "output_type": "stream",
     "text": [
      "127.0.0.1 - - [07/Dec/2023 14:01:02] \"GET /predecirCliente2 HTTP/1.1\" 200 -\n"
     ]
    }
   ],
   "source": [
    "#Importación de Flask\n",
    "from flask import Flask, request\n",
    "import requests\n",
    "\n",
    "#Importación de módulos para el método inteligente\n",
    "import pathlib\n",
    "import pandas as pd\n",
    "from sklearn.pipeline import Pipeline\n",
    "from tensorflow.python.keras.models import load_model, model_from_json\n",
    "from keras import backend as K\n",
    "import pickle\n",
    "import keras\n",
    "\n",
    "app = Flask(__name__)\n",
    "\n",
    "#Función para cargar preprocesador\n",
    "def cargarPipeline(nombreArchivo):\n",
    "    with open(nombreArchivo+'.pickle', 'rb') as handle:\n",
    "        pipeline = pickle.load(handle)\n",
    "    print(\"Preprocesador cargado desde archivo\")\n",
    "    return pipeline\n",
    "\n",
    "#Función para cargar red neuronal\n",
    "def cargarNN(nombreArchivo):\n",
    "    #model = load_model(nombreArchivo+'.h5')   \n",
    "    model = keras.models.load_model(nombreArchivo+'.h5')\n",
    "    print(\"Red Neuronal Cargada desde Archivo\") \n",
    "    return model\n",
    "\n",
    "#Función para integrar el preprocesador y la red neuronal en un Pipeline\n",
    "def cargarModelo():\n",
    "        #Se carga el Pipeline con el Preprocesador (transformadores)\n",
    "        nombreArchivoPreprocesador='recursos\\pipePreprocesadores1.2'\n",
    "        pipe=cargarPipeline(nombreArchivoPreprocesador)\n",
    "        cantidadPasos=len(pipe.steps)\n",
    "        print(\"Cantidad de pasos: \",cantidadPasos)\n",
    "        print(pipe.steps)\n",
    "        #Se carga la Red Neuronal previamente entrenada\n",
    "        modeloOptimizado=cargarNN('recursos\\modeloRedNeuronalOptimizada')\n",
    "        #Se agrega la Red Neuronal al final del Pipeline\n",
    "        pipe.steps.append(['modelNN',modeloOptimizado])\n",
    "        cantidadPasos=len(pipe.steps)\n",
    "        print(\"Cantidad de pasos: \",cantidadPasos)\n",
    "        print(pipe.steps)\n",
    "        print('Red Neuronal integrada al Pipeline')\n",
    "        return pipe\n",
    "\n",
    "#La siguiente función permite predecir si se aprueba o no un crédito a un nuevo cliente. \n",
    "#En la función se define el valor por defecto de las variables, se crea el dataframe con los nuevos valores y\n",
    "#los nombres de las variables. \n",
    "#El método \"predict\" ejecuta el Pipeline: los pasos de transformación y la clasificación (mediante la red neuronal).\n",
    "def predecirNuevoCliente(ESTADOCUENTACORRIENTE='A12', PLAZOMESESCREDITO=6, HISTORIALCREDITO='A34', PROPOSITOCREDITO='A43',\n",
    "                            MONTOCREDITO=1169, SALDOCUENTAAHORROS='A65', TIEMPOACTUALEMPLEO='A75', TASAPAGO=4, \n",
    "                            ESTADOCIVILYSEXO='A93', GARANTE='A101', TIEMPORESIDENCIAACTUAL=4, ACTIVOS='A121', EDAD=67, \n",
    "                            VIVIENDA='A152', CANTIDADCREDITOSEXISTENTES=2, EMPLEO='A173', CANTIDADPERSONASAMANTENER=2,\n",
    "                            TRABAJADOREXTRANJERO='A201'):  \n",
    "    cnames=['ESTADOCUENTACORRIENTE','PLAZOMESESCREDITO','HISTORIALCREDITO','PROPOSITOCREDITO','MONTOCREDITO',\n",
    "            'SALDOCUENTAAHORROS','TIEMPOACTUALEMPLEO','TASAPAGO','ESTADOCIVILYSEXO','GARANTE','TIEMPORESIDENCIAACTUAL',\n",
    "            'ACTIVOS','EDAD','VIVIENDA','CANTIDADCREDITOSEXISTENTES','EMPLEO','CANTIDADPERSONASAMANTENER',\n",
    "            'TRABAJADOREXTRANJERO']\n",
    "    Xnew=[ESTADOCUENTACORRIENTE,PLAZOMESESCREDITO,HISTORIALCREDITO,PROPOSITOCREDITO,MONTOCREDITO,SALDOCUENTAAHORROS,\n",
    "          TIEMPOACTUALEMPLEO,TASAPAGO,ESTADOCIVILYSEXO,GARANTE,TIEMPORESIDENCIAACTUAL,ACTIVOS,EDAD,VIVIENDA,\n",
    "          CANTIDADCREDITOSEXISTENTES,EMPLEO,CANTIDADPERSONASAMANTENER,TRABAJADOREXTRANJERO]\n",
    "    Xnew_Dataframe = pd.DataFrame(data=[Xnew],columns=cnames)\n",
    "    pred = (pipe.predict(Xnew_Dataframe) > 0.5).astype(\"int32\")\n",
    "    pred = pred.flatten()[0]# de 2D a 1D\n",
    "    if pred==1:\n",
    "        pred='Crédito Aprobado. Felicidades =)'\n",
    "    else:\n",
    "        pred='Crédito Negado. Lo sentimos, intenta en otra ocasión'\n",
    "    return pred\n",
    "\n",
    "#Con Shift-Enter se ejecuta el servidor y se inicia cargando el Pipeline (estimador compuesto de preprocesador y red neuronal)\n",
    "print(\"********** CARGANDO MODELO: PREPROCESADOR Y RED NEURONAL\")\n",
    "pipe=cargarModelo()\n",
    "\n",
    "#El servidor queda a la espera de las solicitudes\n",
    "@app.route(\"/\")\n",
    "def hello():\n",
    "    return \"Hola Mundo!\"\n",
    "\n",
    "@app.route(\"/predecirCliente1\")\n",
    "def probarMetodoMLCliente1():\n",
    "    resul=predecirNuevoCliente(PLAZOMESESCREDITO=10,MONTOCREDITO=40000,TASAPAGO=5,EDAD=25,CANTIDADPERSONASAMANTENER=3,EMPLEO='A173')\n",
    "    return resul\n",
    "\n",
    "@app.route(\"/predecirCliente2\")\n",
    "def probarMetodoMLCliente2():\n",
    "    resul=predecirNuevoCliente(PLAZOMESESCREDITO=10,MONTOCREDITO=400000,TASAPAGO=5,EDAD=25,CANTIDADPERSONASAMANTENER=3,EMPLEO='A173')\n",
    "    return resul\n",
    "        \n",
    "if __name__ == '__main__':\n",
    "    app.run()"
   ]
  }
 ],
 "metadata": {
  "kernelspec": {
   "display_name": "Python 3",
   "language": "python",
   "name": "python3"
  },
  "language_info": {
   "codemirror_mode": {
    "name": "ipython",
    "version": 3
   },
   "file_extension": ".py",
   "mimetype": "text/x-python",
   "name": "python",
   "nbconvert_exporter": "python",
   "pygments_lexer": "ipython3",
   "version": "3.10.9"
  }
 },
 "nbformat": 4,
 "nbformat_minor": 2
}
